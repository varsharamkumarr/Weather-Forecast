{
 "cells": [
  {
   "cell_type": "code",
   "execution_count": 1,
   "id": "079c64af-2166-4095-9d1a-ccb74e48ade1",
   "metadata": {},
   "outputs": [],
   "source": [
    "import tkinter as tk\n",
    "from tkinter import messagebox\n",
    "import requests"
   ]
  },
  {
   "cell_type": "code",
   "execution_count": 2,
   "id": "a27041fb-e385-404a-ad1a-a0caed1d9717",
   "metadata": {},
   "outputs": [],
   "source": [
    "API_KEY = 'd88230ce1d4e18223854f700ddb80d8a'"
   ]
  },
  {
   "cell_type": "code",
   "execution_count": 3,
   "id": "1d445a50-74fb-41b2-a965-6ead5a006f24",
   "metadata": {},
   "outputs": [],
   "source": [
    "def get_weather(city):\n",
    "    url = f'http://api.openweathermap.org/data/2.5/weather?q={city}&appid={API_KEY}&units=metric'\n",
    "    response = requests.get(url)\n",
    "    data = response.json()\n",
    "    return data"
   ]
  },
  {
   "cell_type": "code",
   "execution_count": 4,
   "id": "c3c028a2-20aa-456c-a4f2-90a04f99fc55",
   "metadata": {},
   "outputs": [],
   "source": [
    "def display_weather():\n",
    "    city = city_entry.get()\n",
    "    if not city:\n",
    "        messagebox.showerror(\"Error\", \"Please enter a city name.\")\n",
    "        return\n",
    "\n",
    "    try:\n",
    "        weather_data = get_weather(city)\n",
    "        if weather_data['cod'] != 200:\n",
    "            messagebox.showerror(\"Error\", f\"Error: {weather_data['message']}\")\n",
    "            return\n",
    "\n",
    "        temperature = weather_data['main']['temp']\n",
    "        description = weather_data['weather'][0]['description']\n",
    "\n",
    "        result_label.config(text=f\"Temperature: {temperature}°C\\nDescription: {description.capitalize()}\")\n",
    "    except Exception as e:\n",
    "        messagebox.showerror(\"Error\", f\"An error occurred: {str(e)}\")"
   ]
  },
  {
   "cell_type": "code",
   "execution_count": 5,
   "id": "2d4cee9c-d0d9-4996-a629-cb307004b35d",
   "metadata": {},
   "outputs": [],
   "source": [
    "# GUI setup\n",
    "root = tk.Tk()\n",
    "root.title(\"Weather App\")\n",
    "root.geometry(\"400x300\")\n",
    "city_label = tk.Label(root, text=\"Enter city name:\")\n",
    "city_label.pack(pady=5)\n",
    "\n",
    "city_entry = tk.Entry(root)\n",
    "city_entry.pack(pady=5)\n",
    "\n",
    "get_weather_button = tk.Button(root, text=\"Get Weather\", command=display_weather)\n",
    "get_weather_button.pack(pady=5)\n",
    "\n",
    "result_label = tk.Label(root, text=\"\")\n",
    "result_label.pack(pady=5)"
   ]
  },
  {
   "cell_type": "code",
   "execution_count": 6,
   "id": "0b19c0d6-0f47-4fce-8cf0-0e3aa6117528",
   "metadata": {},
   "outputs": [],
   "source": [
    "root.mainloop()"
   ]
  }
 ],
 "metadata": {
  "kernelspec": {
   "display_name": "Python 3 (ipykernel)",
   "language": "python",
   "name": "python3"
  },
  "language_info": {
   "codemirror_mode": {
    "name": "ipython",
    "version": 3
   },
   "file_extension": ".py",
   "mimetype": "text/x-python",
   "name": "python",
   "nbconvert_exporter": "python",
   "pygments_lexer": "ipython3",
   "version": "3.8.18"
  }
 },
 "nbformat": 4,
 "nbformat_minor": 5
}
